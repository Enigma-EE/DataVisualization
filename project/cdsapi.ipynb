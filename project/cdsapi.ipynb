{
 "cells": [
  {
   "cell_type": "code",
   "execution_count": 1,
   "metadata": {},
   "outputs": [
    {
     "name": "stdout",
     "output_type": "stream",
     "text": [
      "Requirement already satisfied: cdsapi in c:\\users\\e\\appdata\\roaming\\python\\python38\\site-packages (0.5.1)\n",
      "Requirement already satisfied: requests>=2.5.0 in c:\\users\\e\\appdata\\roaming\\python\\python38\\site-packages (from cdsapi) (2.28.1)\n",
      "Requirement already satisfied: tqdm in c:\\users\\e\\appdata\\roaming\\python\\python38\\site-packages (from cdsapi) (4.64.0)\n",
      "Requirement already satisfied: charset-normalizer<3,>=2 in c:\\python38\\lib\\site-packages (from requests>=2.5.0->cdsapi) (2.1.0)\n",
      "Requirement already satisfied: idna<4,>=2.5 in c:\\users\\e\\appdata\\roaming\\python\\python38\\site-packages (from requests>=2.5.0->cdsapi) (3.3)\n",
      "Requirement already satisfied: urllib3<1.27,>=1.21.1 in c:\\python38\\lib\\site-packages (from requests>=2.5.0->cdsapi) (1.26.6)\n",
      "Requirement already satisfied: certifi>=2017.4.17 in c:\\python38\\lib\\site-packages (from requests>=2.5.0->cdsapi) (2022.6.15)\n",
      "Requirement already satisfied: colorama in c:\\python38\\lib\\site-packages (from tqdm->cdsapi) (0.4.6)\n"
     ]
    },
    {
     "name": "stderr",
     "output_type": "stream",
     "text": [
      "WARNING: Ignoring invalid distribution -rotobuf (c:\\python38\\lib\\site-packages)\n",
      "WARNING: Ignoring invalid distribution -rotobuf (c:\\python38\\lib\\site-packages)\n"
     ]
    }
   ],
   "source": []
  },
  {
   "cell_type": "code",
   "execution_count": 2,
   "metadata": {},
   "outputs": [
    {
     "name": "stderr",
     "output_type": "stream",
     "text": [
      "c:\\Python38\\lib\\site-packages\\urllib3\\connectionpool.py:1013: InsecureRequestWarning: Unverified HTTPS request is being made to host 'cds.climate.copernicus.eu'. Adding certificate verification is strongly advised. See: https://urllib3.readthedocs.io/en/1.26.x/advanced-usage.html#ssl-warnings\n",
      "  warnings.warn(\n",
      "2023-11-23 21:25:49,282 INFO Welcome to the CDS\n",
      "2023-11-23 21:25:49,282 INFO Sending request to https://cds.climate.copernicus.eu/api/v2/resources/sis-water-level-change-indicators-cmip6\n",
      "c:\\Python38\\lib\\site-packages\\urllib3\\connectionpool.py:1013: InsecureRequestWarning: Unverified HTTPS request is being made to host 'cds.climate.copernicus.eu'. Adding certificate verification is strongly advised. See: https://urllib3.readthedocs.io/en/1.26.x/advanced-usage.html#ssl-warnings\n",
      "  warnings.warn(\n",
      "2023-11-23 21:25:49,722 INFO Request is queued\n",
      "c:\\Python38\\lib\\site-packages\\urllib3\\connectionpool.py:1013: InsecureRequestWarning: Unverified HTTPS request is being made to host 'cds.climate.copernicus.eu'. Adding certificate verification is strongly advised. See: https://urllib3.readthedocs.io/en/1.26.x/advanced-usage.html#ssl-warnings\n",
      "  warnings.warn(\n",
      "2023-11-23 21:25:51,077 INFO Request is running\n",
      "c:\\Python38\\lib\\site-packages\\urllib3\\connectionpool.py:1013: InsecureRequestWarning: Unverified HTTPS request is being made to host 'cds.climate.copernicus.eu'. Adding certificate verification is strongly advised. See: https://urllib3.readthedocs.io/en/1.26.x/advanced-usage.html#ssl-warnings\n",
      "  warnings.warn(\n",
      "2023-11-23 21:25:52,926 INFO Request is completed\n",
      "2023-11-23 21:25:52,926 INFO Downloading https://download-0003-clone.copernicus-climate.eu/cache-compute-0003/cache/data5/dataset-sis-water-level-change-indicators-cmip6-968eb883-ed6a-41bf-9e79-ca4cc71e312f.zip to 2021-2050.zip (4.7M)\n",
      "c:\\Python38\\lib\\site-packages\\urllib3\\connectionpool.py:1013: InsecureRequestWarning: Unverified HTTPS request is being made to host 'download-0003-clone.copernicus-climate.eu'. Adding certificate verification is strongly advised. See: https://urllib3.readthedocs.io/en/1.26.x/advanced-usage.html#ssl-warnings\n",
      "  warnings.warn(\n",
      "2023-11-23 21:25:58,301 INFO Download rate 895.8K/s \n"
     ]
    },
    {
     "data": {
      "text/plain": [
       "Result(content_length=4929126,content_type=application/zip,location=https://download-0003-clone.copernicus-climate.eu/cache-compute-0003/cache/data5/dataset-sis-water-level-change-indicators-cmip6-968eb883-ed6a-41bf-9e79-ca4cc71e312f.zip)"
      ]
     },
     "execution_count": 2,
     "metadata": {},
     "output_type": "execute_result"
    }
   ],
   "source": [
    "import cdsapi\n",
    "\n",
    "c = cdsapi.Client()\n",
    "\n",
    "c.retrieve(\n",
    "    'sis-water-level-change-indicators-cmip6',\n",
    "    {\n",
    "        'format': 'zip',\n",
    "        'variable': [\n",
    "            'highest_astronomical_tide', 'lowest_astronomical_tide', 'mean_sea_level',\n",
    "            'tidal_range', 'total_water_level',\n",
    "        ],\n",
    "        'derived_variable': 'absolute_value',\n",
    "        'product_type': 'multi_model_ensemble',\n",
    "        'multi_model_ensemble_statistic': [\n",
    "            'ensemble_mean', 'ensemble_standard_deviation',\n",
    "        ],\n",
    "        'statistic': [\n",
    "            '10_year', '1_year',\n",
    "        ],\n",
    "        'confidence_interval': 'best_fit',\n",
    "        'experiment': 'future',\n",
    "        'period': '2021-2050',\n",
    "    },\n",
    "    '2021-2050.zip')"
   ]
  },
  {
   "cell_type": "code",
   "execution_count": 1,
   "metadata": {},
   "outputs": [
    {
     "name": "stderr",
     "output_type": "stream",
     "text": [
      "c:\\Python38\\lib\\site-packages\\urllib3\\connectionpool.py:1013: InsecureRequestWarning: Unverified HTTPS request is being made to host 'cds.climate.copernicus.eu'. Adding certificate verification is strongly advised. See: https://urllib3.readthedocs.io/en/1.26.x/advanced-usage.html#ssl-warnings\n",
      "  warnings.warn(\n",
      "2023-11-25 18:31:30,217 INFO Welcome to the CDS\n",
      "2023-11-25 18:31:30,218 INFO Sending request to https://cds.climate.copernicus.eu/api/v2/resources/sis-water-level-change-indicators-cmip6\n",
      "c:\\Python38\\lib\\site-packages\\urllib3\\connectionpool.py:1013: InsecureRequestWarning: Unverified HTTPS request is being made to host 'cds.climate.copernicus.eu'. Adding certificate verification is strongly advised. See: https://urllib3.readthedocs.io/en/1.26.x/advanced-usage.html#ssl-warnings\n",
      "  warnings.warn(\n",
      "2023-11-25 18:31:30,657 INFO Request is queued\n",
      "c:\\Python38\\lib\\site-packages\\urllib3\\connectionpool.py:1013: InsecureRequestWarning: Unverified HTTPS request is being made to host 'cds.climate.copernicus.eu'. Adding certificate verification is strongly advised. See: https://urllib3.readthedocs.io/en/1.26.x/advanced-usage.html#ssl-warnings\n",
      "  warnings.warn(\n",
      "2023-11-25 18:31:31,991 INFO Request is running\n",
      "c:\\Python38\\lib\\site-packages\\urllib3\\connectionpool.py:1013: InsecureRequestWarning: Unverified HTTPS request is being made to host 'cds.climate.copernicus.eu'. Adding certificate verification is strongly advised. See: https://urllib3.readthedocs.io/en/1.26.x/advanced-usage.html#ssl-warnings\n",
      "  warnings.warn(\n",
      "2023-11-25 18:31:33,839 INFO Request is completed\n",
      "2023-11-25 18:31:33,839 INFO Downloading https://download-0018.copernicus-climate.eu/cache-compute-0018/cache/data4/dataset-sis-water-level-change-indicators-cmip6-051b2bdf-c44d-4e3a-925f-1df3e0956152.zip to 1985-2014.zip (4.7M)\n",
      "c:\\Python38\\lib\\site-packages\\urllib3\\connectionpool.py:1013: InsecureRequestWarning: Unverified HTTPS request is being made to host 'download-0018.copernicus-climate.eu'. Adding certificate verification is strongly advised. See: https://urllib3.readthedocs.io/en/1.26.x/advanced-usage.html#ssl-warnings\n",
      "  warnings.warn(\n",
      "2023-11-25 18:31:40,305 INFO Download rate 744.4K/s \n"
     ]
    },
    {
     "data": {
      "text/plain": [
       "Result(content_length=4928470,content_type=application/zip,location=https://download-0018.copernicus-climate.eu/cache-compute-0018/cache/data4/dataset-sis-water-level-change-indicators-cmip6-051b2bdf-c44d-4e3a-925f-1df3e0956152.zip)"
      ]
     },
     "execution_count": 1,
     "metadata": {},
     "output_type": "execute_result"
    }
   ],
   "source": [
    "import cdsapi\n",
    "\n",
    "c = cdsapi.Client()\n",
    "\n",
    "c.retrieve(\n",
    "    'sis-water-level-change-indicators-cmip6',\n",
    "    {\n",
    "        'format': 'zip',\n",
    "        'experiment': 'historical',\n",
    "        'variable': [\n",
    "            'highest_astronomical_tide', 'lowest_astronomical_tide', 'mean_sea_level',\n",
    "            'tidal_range', 'total_water_level',\n",
    "        ],\n",
    "        'derived_variable': 'absolute_value',\n",
    "        'product_type': 'multi_model_ensemble',\n",
    "        'multi_model_ensemble_statistic': [\n",
    "            'ensemble_mean', 'ensemble_standard_deviation',\n",
    "        ],\n",
    "        'statistic': [\n",
    "            '10_year', '1_year',\n",
    "        ],\n",
    "        'confidence_interval': 'best_fit',\n",
    "        'period': '1985-2014',\n",
    "    },\n",
    "    '1985-2014.zip')"
   ]
  },
  {
   "cell_type": "code",
   "execution_count": 2,
   "metadata": {},
   "outputs": [
    {
     "name": "stderr",
     "output_type": "stream",
     "text": [
      "c:\\Python38\\lib\\site-packages\\urllib3\\connectionpool.py:1013: InsecureRequestWarning: Unverified HTTPS request is being made to host 'cds.climate.copernicus.eu'. Adding certificate verification is strongly advised. See: https://urllib3.readthedocs.io/en/1.26.x/advanced-usage.html#ssl-warnings\n",
      "  warnings.warn(\n",
      "2023-11-25 18:32:28,442 INFO Welcome to the CDS\n",
      "2023-11-25 18:32:28,443 INFO Sending request to https://cds.climate.copernicus.eu/api/v2/resources/sis-water-level-change-indicators-cmip6\n",
      "c:\\Python38\\lib\\site-packages\\urllib3\\connectionpool.py:1013: InsecureRequestWarning: Unverified HTTPS request is being made to host 'cds.climate.copernicus.eu'. Adding certificate verification is strongly advised. See: https://urllib3.readthedocs.io/en/1.26.x/advanced-usage.html#ssl-warnings\n",
      "  warnings.warn(\n",
      "2023-11-25 18:32:28,820 INFO Request is queued\n",
      "c:\\Python38\\lib\\site-packages\\urllib3\\connectionpool.py:1013: InsecureRequestWarning: Unverified HTTPS request is being made to host 'cds.climate.copernicus.eu'. Adding certificate verification is strongly advised. See: https://urllib3.readthedocs.io/en/1.26.x/advanced-usage.html#ssl-warnings\n",
      "  warnings.warn(\n",
      "2023-11-25 18:32:30,164 INFO Request is running\n",
      "c:\\Python38\\lib\\site-packages\\urllib3\\connectionpool.py:1013: InsecureRequestWarning: Unverified HTTPS request is being made to host 'cds.climate.copernicus.eu'. Adding certificate verification is strongly advised. See: https://urllib3.readthedocs.io/en/1.26.x/advanced-usage.html#ssl-warnings\n",
      "  warnings.warn(\n",
      "2023-11-25 18:32:32,011 INFO Request is completed\n",
      "2023-11-25 18:32:32,012 INFO Downloading https://download-0010-clone.copernicus-climate.eu/cache-compute-0010/cache/data3/dataset-sis-water-level-change-indicators-cmip6-a9174a43-ab9d-4d21-8c09-30f6602882bc.zip to 1951-1980.zip (4.7M)\n",
      "c:\\Python38\\lib\\site-packages\\urllib3\\connectionpool.py:1013: InsecureRequestWarning: Unverified HTTPS request is being made to host 'download-0010-clone.copernicus-climate.eu'. Adding certificate verification is strongly advised. See: https://urllib3.readthedocs.io/en/1.26.x/advanced-usage.html#ssl-warnings\n",
      "  warnings.warn(\n",
      "2023-11-25 18:32:37,589 INFO Download rate 862.1K/s \n"
     ]
    },
    {
     "data": {
      "text/plain": [
       "Result(content_length=4923810,content_type=application/zip,location=https://download-0010-clone.copernicus-climate.eu/cache-compute-0010/cache/data3/dataset-sis-water-level-change-indicators-cmip6-a9174a43-ab9d-4d21-8c09-30f6602882bc.zip)"
      ]
     },
     "execution_count": 2,
     "metadata": {},
     "output_type": "execute_result"
    }
   ],
   "source": [
    "import cdsapi\n",
    "\n",
    "c = cdsapi.Client()\n",
    "\n",
    "c.retrieve(\n",
    "    'sis-water-level-change-indicators-cmip6',\n",
    "    {\n",
    "        'format': 'zip',\n",
    "        'experiment': 'historical',\n",
    "        'variable': [\n",
    "            'highest_astronomical_tide', 'lowest_astronomical_tide', 'mean_sea_level',\n",
    "            'tidal_range', 'total_water_level',\n",
    "        ],\n",
    "        'derived_variable': 'absolute_value',\n",
    "        'product_type': 'multi_model_ensemble',\n",
    "        'multi_model_ensemble_statistic': [\n",
    "            'ensemble_mean', 'ensemble_standard_deviation',\n",
    "        ],\n",
    "        'statistic': [\n",
    "            '10_year', '1_year',\n",
    "        ],\n",
    "        'confidence_interval': 'best_fit',\n",
    "        'period': '1951-1980',\n",
    "    },\n",
    "    '1951-1980.zip')"
   ]
  },
  {
   "cell_type": "code",
   "execution_count": null,
   "metadata": {},
   "outputs": [],
   "source": []
  },
  {
   "cell_type": "code",
   "execution_count": 1,
   "metadata": {},
   "outputs": [
    {
     "name": "stderr",
     "output_type": "stream",
     "text": [
      "c:\\Python38\\lib\\site-packages\\urllib3\\connectionpool.py:1013: InsecureRequestWarning: Unverified HTTPS request is being made to host 'cds.climate.copernicus.eu'. Adding certificate verification is strongly advised. See: https://urllib3.readthedocs.io/en/1.26.x/advanced-usage.html#ssl-warnings\n",
      "  warnings.warn(\n",
      "2023-11-25 01:49:50,695 INFO Welcome to the CDS\n",
      "2023-11-25 01:49:50,695 INFO Sending request to https://cds.climate.copernicus.eu/api/v2/resources/sis-water-level-change-timeseries-cmip6\n",
      "c:\\Python38\\lib\\site-packages\\urllib3\\connectionpool.py:1013: InsecureRequestWarning: Unverified HTTPS request is being made to host 'cds.climate.copernicus.eu'. Adding certificate verification is strongly advised. See: https://urllib3.readthedocs.io/en/1.26.x/advanced-usage.html#ssl-warnings\n",
      "  warnings.warn(\n",
      "2023-11-25 01:49:51,406 INFO Request is completed\n",
      "2023-11-25 01:49:51,407 INFO Downloading https://download-0014-clone.copernicus-climate.eu/cache-compute-0014/cache/data3/dataset-sis-water-level-change-timeseries-cmip6-03ba7a76-5f05-4a8a-be89-d8c1fd06e582.zip to future_msl.zip (11.1M)\n",
      "c:\\Python38\\lib\\site-packages\\urllib3\\connectionpool.py:1013: InsecureRequestWarning: Unverified HTTPS request is being made to host 'download-0014-clone.copernicus-climate.eu'. Adding certificate verification is strongly advised. See: https://urllib3.readthedocs.io/en/1.26.x/advanced-usage.html#ssl-warnings\n",
      "  warnings.warn(\n",
      "2023-11-25 01:50:00,981 INFO Download rate 1.2M/s   \n"
     ]
    },
    {
     "data": {
      "text/plain": [
       "Result(content_length=11596234,content_type=application/zip,location=https://download-0014-clone.copernicus-climate.eu/cache-compute-0014/cache/data3/dataset-sis-water-level-change-timeseries-cmip6-03ba7a76-5f05-4a8a-be89-d8c1fd06e582.zip)"
      ]
     },
     "execution_count": 1,
     "metadata": {},
     "output_type": "execute_result"
    }
   ],
   "source": [
    "import cdsapi\n",
    "\n",
    "c = cdsapi.Client()\n",
    "\n",
    "c.retrieve(\n",
    "    'sis-water-level-change-timeseries-cmip6',\n",
    "    {\n",
    "        'format': 'zip',\n",
    "        'temporal_aggregation': 'annual',\n",
    "        'experiment': 'future',\n",
    "        'variable': 'mean_sea_level',\n",
    "        'year': [\n",
    "            '2015', '2016', '2017',\n",
    "            '2018', '2019', '2020',\n",
    "            '2021', '2022', '2023',\n",
    "            '2024', '2025', '2026',\n",
    "            '2027', '2028', '2029',\n",
    "            '2030', '2031', '2032',\n",
    "            '2033', '2034', '2035',\n",
    "            '2036', '2037', '2038',\n",
    "            '2039', '2040', '2041',\n",
    "            '2042', '2043', '2044',\n",
    "            '2045', '2046', '2047',\n",
    "            '2048', '2049', '2050',\n",
    "        ],\n",
    "    },\n",
    "    'future_msl.zip')"
   ]
  },
  {
   "cell_type": "code",
   "execution_count": 1,
   "metadata": {},
   "outputs": [
    {
     "name": "stderr",
     "output_type": "stream",
     "text": [
      "c:\\Python38\\lib\\site-packages\\urllib3\\connectionpool.py:1013: InsecureRequestWarning: Unverified HTTPS request is being made to host 'cds.climate.copernicus.eu'. Adding certificate verification is strongly advised. See: https://urllib3.readthedocs.io/en/1.26.x/advanced-usage.html#ssl-warnings\n",
      "  warnings.warn(\n",
      "2023-11-25 23:33:53,329 INFO Welcome to the CDS\n",
      "2023-11-25 23:33:53,330 INFO Sending request to https://cds.climate.copernicus.eu/api/v2/resources/sis-water-level-change-timeseries-cmip6\n",
      "c:\\Python38\\lib\\site-packages\\urllib3\\connectionpool.py:1013: InsecureRequestWarning: Unverified HTTPS request is being made to host 'cds.climate.copernicus.eu'. Adding certificate verification is strongly advised. See: https://urllib3.readthedocs.io/en/1.26.x/advanced-usage.html#ssl-warnings\n",
      "  warnings.warn(\n",
      "2023-11-25 23:33:53,789 INFO Request is queued\n",
      "c:\\Python38\\lib\\site-packages\\urllib3\\connectionpool.py:1013: InsecureRequestWarning: Unverified HTTPS request is being made to host 'cds.climate.copernicus.eu'. Adding certificate verification is strongly advised. See: https://urllib3.readthedocs.io/en/1.26.x/advanced-usage.html#ssl-warnings\n",
      "  warnings.warn(\n",
      "2023-11-25 23:33:55,151 INFO Request is completed\n",
      "2023-11-25 23:33:55,152 INFO Downloading https://download-0021.copernicus-climate.eu/cache-compute-0021/cache/data0/dataset-sis-water-level-change-timeseries-cmip6-6c7e64c1-9ade-4f7d-af5d-caac6c315a79.zip to historical_msl.zip (9.2M)\n",
      "c:\\Python38\\lib\\site-packages\\urllib3\\connectionpool.py:1013: InsecureRequestWarning: Unverified HTTPS request is being made to host 'download-0021.copernicus-climate.eu'. Adding certificate verification is strongly advised. See: https://urllib3.readthedocs.io/en/1.26.x/advanced-usage.html#ssl-warnings\n",
      "  warnings.warn(\n",
      "2023-11-25 23:34:03,591 INFO Download rate 1.1M/s   \n"
     ]
    },
    {
     "data": {
      "text/plain": [
       "Result(content_length=9663772,content_type=application/zip,location=https://download-0021.copernicus-climate.eu/cache-compute-0021/cache/data0/dataset-sis-water-level-change-timeseries-cmip6-6c7e64c1-9ade-4f7d-af5d-caac6c315a79.zip)"
      ]
     },
     "execution_count": 1,
     "metadata": {},
     "output_type": "execute_result"
    }
   ],
   "source": [
    "import cdsapi\n",
    "\n",
    "c = cdsapi.Client()\n",
    "\n",
    "c.retrieve(\n",
    "    'sis-water-level-change-timeseries-cmip6',\n",
    "    {\n",
    "        'format': 'zip',\n",
    "        'variable': 'mean_sea_level',\n",
    "        'experiment': 'historical',\n",
    "        'temporal_aggregation': 'annual',\n",
    "        'year': [\n",
    "            '1985', '1986', '1987',\n",
    "            '1988', '1989', '1990',\n",
    "            '1991', '1992', '1993',\n",
    "            '1994', '1995', '1996',\n",
    "            '1997', '1998', '1999',\n",
    "            '2000', '2001', '2002',\n",
    "            '2003', '2004', '2005',\n",
    "            '2006', '2007', '2008',\n",
    "            '2009', '2010', '2011',\n",
    "            '2012', '2013', '2014',\n",
    "        ],\n",
    "    },\n",
    "    'historical_msl.zip')"
   ]
  },
  {
   "cell_type": "code",
   "execution_count": 1,
   "metadata": {},
   "outputs": [
    {
     "name": "stderr",
     "output_type": "stream",
     "text": [
      "c:\\Python38\\lib\\site-packages\\urllib3\\connectionpool.py:1013: InsecureRequestWarning: Unverified HTTPS request is being made to host 'cds.climate.copernicus.eu'. Adding certificate verification is strongly advised. See: https://urllib3.readthedocs.io/en/1.26.x/advanced-usage.html#ssl-warnings\n",
      "  warnings.warn(\n",
      "2023-11-28 18:35:13,970 INFO Welcome to the CDS\n",
      "2023-11-28 18:35:13,970 INFO Sending request to https://cds.climate.copernicus.eu/api/v2/resources/sis-water-level-change-timeseries-cmip6\n",
      "c:\\Python38\\lib\\site-packages\\urllib3\\connectionpool.py:1013: InsecureRequestWarning: Unverified HTTPS request is being made to host 'cds.climate.copernicus.eu'. Adding certificate verification is strongly advised. See: https://urllib3.readthedocs.io/en/1.26.x/advanced-usage.html#ssl-warnings\n",
      "  warnings.warn(\n",
      "2023-11-28 18:35:14,606 INFO Request is queued\n",
      "c:\\Python38\\lib\\site-packages\\urllib3\\connectionpool.py:1013: InsecureRequestWarning: Unverified HTTPS request is being made to host 'cds.climate.copernicus.eu'. Adding certificate verification is strongly advised. See: https://urllib3.readthedocs.io/en/1.26.x/advanced-usage.html#ssl-warnings\n",
      "  warnings.warn(\n",
      "2023-11-28 18:35:15,953 INFO Request is running\n",
      "c:\\Python38\\lib\\site-packages\\urllib3\\connectionpool.py:1013: InsecureRequestWarning: Unverified HTTPS request is being made to host 'cds.climate.copernicus.eu'. Adding certificate verification is strongly advised. See: https://urllib3.readthedocs.io/en/1.26.x/advanced-usage.html#ssl-warnings\n",
      "  warnings.warn(\n",
      "c:\\Python38\\lib\\site-packages\\urllib3\\connectionpool.py:1013: InsecureRequestWarning: Unverified HTTPS request is being made to host 'cds.climate.copernicus.eu'. Adding certificate verification is strongly advised. See: https://urllib3.readthedocs.io/en/1.26.x/advanced-usage.html#ssl-warnings\n",
      "  warnings.warn(\n",
      "c:\\Python38\\lib\\site-packages\\urllib3\\connectionpool.py:1013: InsecureRequestWarning: Unverified HTTPS request is being made to host 'cds.climate.copernicus.eu'. Adding certificate verification is strongly advised. See: https://urllib3.readthedocs.io/en/1.26.x/advanced-usage.html#ssl-warnings\n",
      "  warnings.warn(\n",
      "2023-11-28 18:35:24,124 INFO Request is completed\n",
      "2023-11-28 18:35:24,128 INFO Downloading https://download-0019.copernicus-climate.eu/cache-compute-0019/cache/data1/dataset-sis-water-level-change-timeseries-cmip6-6b765f4f-29ab-46c7-895e-d92a999849be.zip to ssr_85_20.zip (140.1M)\n",
      "c:\\Python38\\lib\\site-packages\\urllib3\\connectionpool.py:1013: InsecureRequestWarning: Unverified HTTPS request is being made to host 'download-0019.copernicus-climate.eu'. Adding certificate verification is strongly advised. See: https://urllib3.readthedocs.io/en/1.26.x/advanced-usage.html#ssl-warnings\n",
      "  warnings.warn(\n",
      "2023-11-28 18:36:34,876 INFO Download rate 2M/s      \n"
     ]
    },
    {
     "data": {
      "text/plain": [
       "Result(content_length=146864612,content_type=application/zip,location=https://download-0019.copernicus-climate.eu/cache-compute-0019/cache/data1/dataset-sis-water-level-change-timeseries-cmip6-6b765f4f-29ab-46c7-895e-d92a999849be.zip)"
      ]
     },
     "execution_count": 1,
     "metadata": {},
     "output_type": "execute_result"
    }
   ],
   "source": [
    "import cdsapi\n",
    "\n",
    "c = cdsapi.Client()\n",
    "\n",
    "c.retrieve(\n",
    "    'sis-water-level-change-timeseries-cmip6',\n",
    "    {\n",
    "        'format': 'zip',\n",
    "        'variable': 'storm_surge_residual',\n",
    "        'experiment': 'reanalysis',\n",
    "        'temporal_aggregation': 'daily_maximum',\n",
    "        'month': [\n",
    "            '01', '02', '03',\n",
    "            '04', '11', '12',\n",
    "        ],\n",
    "        'year': [\n",
    "            '1985', '1986', '1987',\n",
    "            '1988', '1989', '1990',\n",
    "            '1991', '1992', '1993',\n",
    "            '1994', '1995', '1996',\n",
    "            '1997', '1998', '1999',\n",
    "            '2000',\n",
    "        ],\n",
    "    },\n",
    "    'ssr_85_20.zip')"
   ]
  },
  {
   "cell_type": "code",
   "execution_count": 2,
   "metadata": {},
   "outputs": [
    {
     "name": "stderr",
     "output_type": "stream",
     "text": [
      "c:\\Python38\\lib\\site-packages\\urllib3\\connectionpool.py:1013: InsecureRequestWarning: Unverified HTTPS request is being made to host 'cds.climate.copernicus.eu'. Adding certificate verification is strongly advised. See: https://urllib3.readthedocs.io/en/1.26.x/advanced-usage.html#ssl-warnings\n",
      "  warnings.warn(\n",
      "2023-11-28 18:37:42,574 INFO Welcome to the CDS\n",
      "2023-11-28 18:37:42,574 INFO Sending request to https://cds.climate.copernicus.eu/api/v2/resources/sis-water-level-change-timeseries-cmip6\n",
      "c:\\Python38\\lib\\site-packages\\urllib3\\connectionpool.py:1013: InsecureRequestWarning: Unverified HTTPS request is being made to host 'cds.climate.copernicus.eu'. Adding certificate verification is strongly advised. See: https://urllib3.readthedocs.io/en/1.26.x/advanced-usage.html#ssl-warnings\n",
      "  warnings.warn(\n",
      "2023-11-28 18:37:42,919 INFO Request is queued\n",
      "c:\\Python38\\lib\\site-packages\\urllib3\\connectionpool.py:1013: InsecureRequestWarning: Unverified HTTPS request is being made to host 'cds.climate.copernicus.eu'. Adding certificate verification is strongly advised. See: https://urllib3.readthedocs.io/en/1.26.x/advanced-usage.html#ssl-warnings\n",
      "  warnings.warn(\n",
      "2023-11-28 18:37:44,261 INFO Request is running\n",
      "c:\\Python38\\lib\\site-packages\\urllib3\\connectionpool.py:1013: InsecureRequestWarning: Unverified HTTPS request is being made to host 'cds.climate.copernicus.eu'. Adding certificate verification is strongly advised. See: https://urllib3.readthedocs.io/en/1.26.x/advanced-usage.html#ssl-warnings\n",
      "  warnings.warn(\n",
      "c:\\Python38\\lib\\site-packages\\urllib3\\connectionpool.py:1013: InsecureRequestWarning: Unverified HTTPS request is being made to host 'cds.climate.copernicus.eu'. Adding certificate verification is strongly advised. See: https://urllib3.readthedocs.io/en/1.26.x/advanced-usage.html#ssl-warnings\n",
      "  warnings.warn(\n",
      "c:\\Python38\\lib\\site-packages\\urllib3\\connectionpool.py:1013: InsecureRequestWarning: Unverified HTTPS request is being made to host 'cds.climate.copernicus.eu'. Adding certificate verification is strongly advised. See: https://urllib3.readthedocs.io/en/1.26.x/advanced-usage.html#ssl-warnings\n",
      "  warnings.warn(\n",
      "2023-11-28 18:37:52,418 INFO Request is completed\n",
      "2023-11-28 18:37:52,419 INFO Downloading https://download-0018.copernicus-climate.eu/cache-compute-0018/cache/data1/dataset-sis-water-level-change-timeseries-cmip6-95c4c96b-333c-4254-8d50-8a6424dc671f.zip to ssr_01_14.zip (122.4M)\n",
      "c:\\Python38\\lib\\site-packages\\urllib3\\connectionpool.py:1013: InsecureRequestWarning: Unverified HTTPS request is being made to host 'download-0018.copernicus-climate.eu'. Adding certificate verification is strongly advised. See: https://urllib3.readthedocs.io/en/1.26.x/advanced-usage.html#ssl-warnings\n",
      "  warnings.warn(\n",
      "2023-11-28 18:38:49,808 INFO Download rate 2.1M/s    \n"
     ]
    },
    {
     "data": {
      "text/plain": [
       "Result(content_length=128360138,content_type=application/zip,location=https://download-0018.copernicus-climate.eu/cache-compute-0018/cache/data1/dataset-sis-water-level-change-timeseries-cmip6-95c4c96b-333c-4254-8d50-8a6424dc671f.zip)"
      ]
     },
     "execution_count": 2,
     "metadata": {},
     "output_type": "execute_result"
    }
   ],
   "source": [
    "import cdsapi\n",
    "\n",
    "c = cdsapi.Client()\n",
    "\n",
    "c.retrieve(\n",
    "    'sis-water-level-change-timeseries-cmip6',\n",
    "    {\n",
    "        'format': 'zip',\n",
    "        'variable': 'storm_surge_residual',\n",
    "        'experiment': 'reanalysis',\n",
    "        'temporal_aggregation': 'daily_maximum',\n",
    "        'month': [\n",
    "            '01', '02', '03',\n",
    "            '04', '11', '12',\n",
    "        ],\n",
    "        'year': [\n",
    "            '2001', '2002', '2003',\n",
    "            '2004', '2005', '2006',\n",
    "            '2007', '2008', '2009',\n",
    "            '2010', '2011', '2012',\n",
    "            '2013', '2014',\n",
    "        ],\n",
    "    },\n",
    "    'ssr_01_14.zip')"
   ]
  }
 ],
 "metadata": {
  "kernelspec": {
   "display_name": "Python 3",
   "language": "python",
   "name": "python3"
  },
  "language_info": {
   "codemirror_mode": {
    "name": "ipython",
    "version": 3
   },
   "file_extension": ".py",
   "mimetype": "text/x-python",
   "name": "python",
   "nbconvert_exporter": "python",
   "pygments_lexer": "ipython3",
   "version": "3.8.5"
  }
 },
 "nbformat": 4,
 "nbformat_minor": 2
}
