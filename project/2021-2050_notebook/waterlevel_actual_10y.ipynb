{
 "cells": [
  {
   "cell_type": "markdown",
   "metadata": {},
   "source": [
    "future_waterlevel_actual-value_2021-2050_rp1_ensemble"
   ]
  },
  {
   "cell_type": "markdown",
   "metadata": {},
   "source": []
  },
  {
   "cell_type": "markdown",
   "metadata": {},
   "source": []
  },
  {
   "cell_type": "code",
   "execution_count": 1,
   "metadata": {},
   "outputs": [
    {
     "name": "stdout",
     "output_type": "stream",
     "text": [
      "<xarray.Dataset>\n",
      "Dimensions:                   (stations: 43119)\n",
      "Coordinates:\n",
      "  * stations                  (stations) uint16 0 1 2 3 ... 43731 43732 43733\n",
      "    station_y_coordinate      (stations) float64 ...\n",
      "    station_x_coordinate      (stations) float64 ...\n",
      "Data variables:\n",
      "    ensemble_mean_waterlevel  (stations) float64 ...\n",
      "Attributes: (12/33)\n",
      "    Conventions:                   CF-1.6\n",
      "    featureType:                   timeSeries\n",
      "    id:                            GTSMv3_ensemble_statistics\n",
      "    naming_authority:              https://deltares.nl/en\n",
      "    Metadata_Conventions:          Unidata Dataset Discovery v1.0\n",
      "    title:                         Ensemble statistics for water levels\n",
      "    ...                            ...\n",
      "    geospatial_vertical_min:       0.076\n",
      "    geospatial_vertical_max:       10.29\n",
      "    geospatial_vertical_units:     m\n",
      "    geospatial_vertical_positive:  up\n",
      "    time_coverage_start:           2021\n",
      "    time_coverage_end:             2050\n"
     ]
    }
   ],
   "source": [
    "import xarray as xr\n",
    "\n",
    "# Use a raw string (r'') for the file path or double backslashes\n",
    "file_path_1 = r'2021-2050\\future_waterlevel_actual-value_2021-2050_rp10_ensemble-mean_best-fit_v1.nc'\n",
    "# Alternatively:\n",
    "# file_path = '2021-2050\\\\future_tide_actual-value_2021-2050_HAT_v1.nc'\n",
    "\n",
    "\n",
    "\n",
    "# Open the NetCDF file\n",
    "mean_1y = xr.open_dataset(file_path_1)\n",
    "\n",
    "# Display the contents of the file\n",
    "print(mean_1y)"
   ]
  },
  {
   "cell_type": "code",
   "execution_count": 2,
   "metadata": {},
   "outputs": [
    {
     "name": "stdout",
     "output_type": "stream",
     "text": [
      "<xarray.Dataset>\n",
      "Dimensions:                  (stations: 43119)\n",
      "Coordinates:\n",
      "  * stations                 (stations) uint16 0 1 2 3 ... 43731 43732 43733\n",
      "    station_y_coordinate     (stations) float64 ...\n",
      "    station_x_coordinate     (stations) float64 ...\n",
      "Data variables:\n",
      "    ensemble_std_waterlevel  (stations) float64 ...\n",
      "Attributes: (12/33)\n",
      "    Conventions:                   CF-1.6\n",
      "    featureType:                   timeSeries\n",
      "    id:                            GTSMv3_ensemble_statistics\n",
      "    naming_authority:              https://deltares.nl/en\n",
      "    Metadata_Conventions:          Unidata Dataset Discovery v1.0\n",
      "    title:                         Ensemble statistics for water levels\n",
      "    ...                            ...\n",
      "    geospatial_vertical_min:       0.001\n",
      "    geospatial_vertical_max:       0.775\n",
      "    geospatial_vertical_units:     m\n",
      "    geospatial_vertical_positive:  up\n",
      "    time_coverage_start:           2021\n",
      "    time_coverage_end:             2050\n"
     ]
    }
   ],
   "source": [
    "# Use a raw string (r'') for the file path or double backslashes\n",
    "file_path_2 = r'2021-2050\\future_waterlevel_actual-value_2021-2050_rp10_ensemble-std_best-fit_v1.nc'\n",
    "# Alternatively:\n",
    "# file_path = '2021-2050\\\\future_tide_actual-value_2021-2050_HAT_v1.nc'\n",
    "\n",
    "\n",
    "\n",
    "# Open the NetCDF file\n",
    "std_1y = xr.open_dataset(file_path_2)\n",
    "\n",
    "# Display the contents of the file\n",
    "print(std_1y)"
   ]
  },
  {
   "cell_type": "code",
   "execution_count": null,
   "metadata": {},
   "outputs": [],
   "source": []
  }
 ],
 "metadata": {
  "kernelspec": {
   "display_name": "Python 3",
   "language": "python",
   "name": "python3"
  },
  "language_info": {
   "codemirror_mode": {
    "name": "ipython",
    "version": 3
   },
   "file_extension": ".py",
   "mimetype": "text/x-python",
   "name": "python",
   "nbconvert_exporter": "python",
   "pygments_lexer": "ipython3",
   "version": "3.8.5"
  }
 },
 "nbformat": 4,
 "nbformat_minor": 2
}
