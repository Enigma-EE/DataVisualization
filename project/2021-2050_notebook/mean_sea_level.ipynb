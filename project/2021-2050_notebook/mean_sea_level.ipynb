{
 "cells": [
  {
   "cell_type": "markdown",
   "metadata": {},
   "source": [
    "mean_sea_level"
   ]
  },
  {
   "cell_type": "code",
   "execution_count": 1,
   "metadata": {},
   "outputs": [
    {
     "name": "stdout",
     "output_type": "stream",
     "text": [
      "<xarray.Dataset>\n",
      "Dimensions:               (stations: 43119, time: 1)\n",
      "Coordinates:\n",
      "    station_x_coordinate  (stations) float64 ...\n",
      "    station_y_coordinate  (stations) float64 ...\n",
      "  * stations              (stations) uint16 0 1 2 3 ... 43730 43731 43732 43733\n",
      "  * time                  (time) datetime64[ns] 2021-01-01\n",
      "Data variables:\n",
      "    MSL                   (time, stations) float32 ...\n",
      "Attributes: (12/34)\n",
      "    Conventions:                   CF-1.6\n",
      "    featureType:                   timeSeries\n",
      "    id:                            GTSMv3_epoch_tidal_indicators\n",
      "    naming_authority:              https://deltares.nl/en\n",
      "    Metadata_Conventions:          Unidata Dataset Discovery v1.0\n",
      "    title:                         tidal_indicators\n",
      "    ...                            ...\n",
      "    geospatial_vertical_positive:  up\n",
      "    geospatial_vertical_min:       -0.474\n",
      "    geospatial_vertical_max:       2.89\n",
      "    time_coverage_start:           2021-01-01 00:00:00\n",
      "    time_coverage_end:             2050-01-01 00:00:00\n",
      "    experiment:                    \n"
     ]
    }
   ],
   "source": [
    "import xarray as xr\n",
    "\n",
    "# Use a raw string (r'') for the file path or double backslashes\n",
    "file_path = r'2021-2050\\future_tide_actual-value_2021-2050_MSL_v1.nc'\n",
    "# Alternatively:\n",
    "# file_path = '2021-2050\\\\future_tide_actual-value_2021-2050_HAT_v1.nc'\n",
    "\n",
    "# Open the NetCDF file\n",
    "data = xr.open_dataset(file_path)\n",
    "\n",
    "# Display the contents of the file\n",
    "print(data)"
   ]
  }
 ],
 "metadata": {
  "kernelspec": {
   "display_name": "Python 3",
   "language": "python",
   "name": "python3"
  },
  "language_info": {
   "codemirror_mode": {
    "name": "ipython",
    "version": 3
   },
   "file_extension": ".py",
   "mimetype": "text/x-python",
   "name": "python",
   "nbconvert_exporter": "python",
   "pygments_lexer": "ipython3",
   "version": "3.8.5"
  }
 },
 "nbformat": 4,
 "nbformat_minor": 2
}
