{
 "cells": [
  {
   "cell_type": "code",
   "execution_count": 1,
   "metadata": {},
   "outputs": [
    {
     "data": {
      "text/html": [
       "<div>\n",
       "<style scoped>\n",
       "    .dataframe tbody tr th:only-of-type {\n",
       "        vertical-align: middle;\n",
       "    }\n",
       "\n",
       "    .dataframe tbody tr th {\n",
       "        vertical-align: top;\n",
       "    }\n",
       "\n",
       "    .dataframe thead th {\n",
       "        text-align: right;\n",
       "    }\n",
       "</style>\n",
       "<table border=\"1\" class=\"dataframe\">\n",
       "  <thead>\n",
       "    <tr style=\"text-align: right;\">\n",
       "      <th></th>\n",
       "      <th>time</th>\n",
       "      <th>lat</th>\n",
       "      <th>lon</th>\n",
       "      <th>surface_upward_sensible_heat_flux</th>\n",
       "      <th>surface_upward_latent_heat_flux</th>\n",
       "      <th>fill_missing_qc</th>\n",
       "    </tr>\n",
       "  </thead>\n",
       "  <tbody>\n",
       "    <tr>\n",
       "      <th>0</th>\n",
       "      <td>1994-01-04 01:30:00</td>\n",
       "      <td>-89.875</td>\n",
       "      <td>0.125</td>\n",
       "      <td>NaN</td>\n",
       "      <td>NaN</td>\n",
       "      <td>3.0</td>\n",
       "    </tr>\n",
       "    <tr>\n",
       "      <th>1</th>\n",
       "      <td>1994-01-04 01:30:00</td>\n",
       "      <td>-89.875</td>\n",
       "      <td>0.375</td>\n",
       "      <td>NaN</td>\n",
       "      <td>NaN</td>\n",
       "      <td>3.0</td>\n",
       "    </tr>\n",
       "    <tr>\n",
       "      <th>2</th>\n",
       "      <td>1994-01-04 01:30:00</td>\n",
       "      <td>-89.875</td>\n",
       "      <td>0.625</td>\n",
       "      <td>NaN</td>\n",
       "      <td>NaN</td>\n",
       "      <td>3.0</td>\n",
       "    </tr>\n",
       "    <tr>\n",
       "      <th>3</th>\n",
       "      <td>1994-01-04 01:30:00</td>\n",
       "      <td>-89.875</td>\n",
       "      <td>0.875</td>\n",
       "      <td>NaN</td>\n",
       "      <td>NaN</td>\n",
       "      <td>3.0</td>\n",
       "    </tr>\n",
       "    <tr>\n",
       "      <th>4</th>\n",
       "      <td>1994-01-04 01:30:00</td>\n",
       "      <td>-89.875</td>\n",
       "      <td>1.125</td>\n",
       "      <td>NaN</td>\n",
       "      <td>NaN</td>\n",
       "      <td>3.0</td>\n",
       "    </tr>\n",
       "  </tbody>\n",
       "</table>\n",
       "</div>"
      ],
      "text/plain": [
       "                 time     lat    lon  surface_upward_sensible_heat_flux  \\\n",
       "0 1994-01-04 01:30:00 -89.875  0.125                                NaN   \n",
       "1 1994-01-04 01:30:00 -89.875  0.375                                NaN   \n",
       "2 1994-01-04 01:30:00 -89.875  0.625                                NaN   \n",
       "3 1994-01-04 01:30:00 -89.875  0.875                                NaN   \n",
       "4 1994-01-04 01:30:00 -89.875  1.125                                NaN   \n",
       "\n",
       "   surface_upward_latent_heat_flux  fill_missing_qc  \n",
       "0                              NaN              3.0  \n",
       "1                              NaN              3.0  \n",
       "2                              NaN              3.0  \n",
       "3                              NaN              3.0  \n",
       "4                              NaN              3.0  "
      ]
     },
     "execution_count": 1,
     "metadata": {},
     "output_type": "execute_result"
    }
   ],
   "source": [
    "import xarray as xr\n",
    "import pandas as pd\n",
    "\n",
    "# Replace this with the path to your .nc file\n",
    "file_path = 'SEAFLUX-OSB-CDR_V02R00_FLUX_D19940104_C20160824.nc'\n",
    "\n",
    "# Open the .nc file using xarray\n",
    "ds = xr.open_dataset(file_path)\n",
    "\n",
    "# Convert the xarray dataset to a pandas dataframe and reset the index\n",
    "df = ds.to_dataframe().reset_index()\n",
    "\n",
    "# Print the first 5 rows of the dataframe\n",
    "df.head()\n"
   ]
  },
  {
   "cell_type": "code",
   "execution_count": 2,
   "metadata": {},
   "outputs": [
    {
     "data": {
      "text/plain": [
       "time                                 datetime64[ns]\n",
       "lat                                         float64\n",
       "lon                                         float64\n",
       "surface_upward_sensible_heat_flux           float32\n",
       "surface_upward_latent_heat_flux             float32\n",
       "fill_missing_qc                             float32\n",
       "dtype: object"
      ]
     },
     "execution_count": 2,
     "metadata": {},
     "output_type": "execute_result"
    }
   ],
   "source": [
    "\n",
    "\n",
    "# to remove rows with NaN values\n",
    "df = df.dropna()\n",
    "\n",
    "# check the data types of each column\n",
    "df.dtypes\n",
    "\n"
   ]
  },
  {
   "cell_type": "code",
   "execution_count": 3,
   "metadata": {},
   "outputs": [
    {
     "data": {
      "text/html": [
       "<div>\n",
       "<style scoped>\n",
       "    .dataframe tbody tr th:only-of-type {\n",
       "        vertical-align: middle;\n",
       "    }\n",
       "\n",
       "    .dataframe tbody tr th {\n",
       "        vertical-align: top;\n",
       "    }\n",
       "\n",
       "    .dataframe thead th {\n",
       "        text-align: right;\n",
       "    }\n",
       "</style>\n",
       "<table border=\"1\" class=\"dataframe\">\n",
       "  <thead>\n",
       "    <tr style=\"text-align: right;\">\n",
       "      <th></th>\n",
       "      <th>time</th>\n",
       "      <th>lat</th>\n",
       "      <th>lon</th>\n",
       "      <th>surface_upward_sensible_heat_flux</th>\n",
       "      <th>surface_upward_latent_heat_flux</th>\n",
       "      <th>fill_missing_qc</th>\n",
       "    </tr>\n",
       "  </thead>\n",
       "  <tbody>\n",
       "    <tr>\n",
       "      <th>8197969</th>\n",
       "      <td>1994-01-04 22:30:00</td>\n",
       "      <td>73.375</td>\n",
       "      <td>12.375</td>\n",
       "      <td>99.478371</td>\n",
       "      <td>140.758545</td>\n",
       "      <td>0.0</td>\n",
       "    </tr>\n",
       "    <tr>\n",
       "      <th>8197970</th>\n",
       "      <td>1994-01-04 22:30:00</td>\n",
       "      <td>73.375</td>\n",
       "      <td>12.625</td>\n",
       "      <td>110.179321</td>\n",
       "      <td>126.506454</td>\n",
       "      <td>0.0</td>\n",
       "    </tr>\n",
       "    <tr>\n",
       "      <th>8197971</th>\n",
       "      <td>1994-01-04 22:30:00</td>\n",
       "      <td>73.375</td>\n",
       "      <td>12.875</td>\n",
       "      <td>114.243828</td>\n",
       "      <td>121.865097</td>\n",
       "      <td>0.0</td>\n",
       "    </tr>\n",
       "    <tr>\n",
       "      <th>8199410</th>\n",
       "      <td>1994-01-04 22:30:00</td>\n",
       "      <td>73.625</td>\n",
       "      <td>12.625</td>\n",
       "      <td>82.227608</td>\n",
       "      <td>129.201004</td>\n",
       "      <td>0.0</td>\n",
       "    </tr>\n",
       "    <tr>\n",
       "      <th>8199411</th>\n",
       "      <td>1994-01-04 22:30:00</td>\n",
       "      <td>73.625</td>\n",
       "      <td>12.875</td>\n",
       "      <td>79.466202</td>\n",
       "      <td>117.670044</td>\n",
       "      <td>0.0</td>\n",
       "    </tr>\n",
       "  </tbody>\n",
       "</table>\n",
       "</div>"
      ],
      "text/plain": [
       "                       time     lat     lon  \\\n",
       "8197969 1994-01-04 22:30:00  73.375  12.375   \n",
       "8197970 1994-01-04 22:30:00  73.375  12.625   \n",
       "8197971 1994-01-04 22:30:00  73.375  12.875   \n",
       "8199410 1994-01-04 22:30:00  73.625  12.625   \n",
       "8199411 1994-01-04 22:30:00  73.625  12.875   \n",
       "\n",
       "         surface_upward_sensible_heat_flux  surface_upward_latent_heat_flux  \\\n",
       "8197969                          99.478371                       140.758545   \n",
       "8197970                         110.179321                       126.506454   \n",
       "8197971                         114.243828                       121.865097   \n",
       "8199410                          82.227608                       129.201004   \n",
       "8199411                          79.466202                       117.670044   \n",
       "\n",
       "         fill_missing_qc  \n",
       "8197969              0.0  \n",
       "8197970              0.0  \n",
       "8197971              0.0  \n",
       "8199410              0.0  \n",
       "8199411              0.0  "
      ]
     },
     "execution_count": 3,
     "metadata": {},
     "output_type": "execute_result"
    }
   ],
   "source": [
    "df.tail()"
   ]
  },
  {
   "cell_type": "code",
   "execution_count": 6,
   "metadata": {},
   "outputs": [
    {
     "data": {
      "text/plain": [
       "(-199.73222, 372.31216)"
      ]
     },
     "execution_count": 6,
     "metadata": {},
     "output_type": "execute_result"
    }
   ],
   "source": [
    "# find the range of surface_upward_sensible_heat_flux\t\n",
    "df['surface_upward_sensible_heat_flux'].min(), df['surface_upward_sensible_heat_flux'].max()\n"
   ]
  },
  {
   "cell_type": "code",
   "execution_count": 7,
   "metadata": {},
   "outputs": [
    {
     "data": {
      "text/plain": [
       "(-49.99738, 499.82336)"
      ]
     },
     "execution_count": 7,
     "metadata": {},
     "output_type": "execute_result"
    }
   ],
   "source": [
    "\n",
    "# find the range of surface_upward_latent_heat_flux\n",
    "df['surface_upward_latent_heat_flux'].min(), df['surface_upward_latent_heat_flux'].max()\n"
   ]
  },
  {
   "cell_type": "markdown",
   "metadata": {},
   "source": [
    "Time Period:\\\n",
    "1994-01-04 01:30:00 to 1994-01-04 22:30:00\\\n",
    "Bounding Coordinates:\\\n",
    "Bounding Box covering -180°, 90°, 180°, -90° (W, N, E, S)."
   ]
  },
  {
   "cell_type": "code",
   "execution_count": 4,
   "metadata": {},
   "outputs": [],
   "source": [
    "\n",
    "# Define strata based on longitude and latitude\n",
    "num_strata = 10  # Adjust this based on your needs\n",
    "df['lat_strata'] = pd.qcut(df['lat'], num_strata, labels=False)\n",
    "df['lon_strata'] = pd.qcut(df['lon'], num_strata, labels=False)\n",
    "\n",
    "# Sample from each stratum\n",
    "samples_per_stratum = 100  # Adjust this based on your needs\n",
    "df_sample = df.groupby(['lat_strata', 'lon_strata']).apply(lambda x: x.sample(min(len(x), samples_per_stratum))).reset_index(drop=True)\n",
    "\n",
    "# Export to JSON\n",
    "df_sample.to_json('output.json', orient='records')\n",
    "\n",
    "ds.close()"
   ]
  },
  {
   "cell_type": "code",
   "execution_count": 25,
   "metadata": {},
   "outputs": [],
   "source": [
    "\n"
   ]
  },
  {
   "cell_type": "markdown",
   "metadata": {},
   "source": [
    "python -m http.server\n",
    "\n",
    "http://localhost:8000"
   ]
  },
  {
   "cell_type": "markdown",
   "metadata": {},
   "source": [
    "Surface Upward Sensible Heat Flux: This is the flux of heat from the Earth's surface to the atmosphere that is not associated with phase changes of water. It's primarily due to temperature differences between the surface and the air.\n",
    "\n",
    "Surface Upward Latent Heat Flux: In contrast, this represents the heat flux from the Earth's surface to the atmosphere associated with water phase changes, such as evaporation or sublimation. This is a key component in the water cycle and plays a significant role in atmospheric dynamics."
   ]
  },
  {
   "cell_type": "markdown",
   "metadata": {},
   "source": []
  },
  {
   "cell_type": "code",
   "execution_count": null,
   "metadata": {},
   "outputs": [],
   "source": []
  }
 ],
 "metadata": {
  "kernelspec": {
   "display_name": "Python 3",
   "language": "python",
   "name": "python3"
  },
  "language_info": {
   "codemirror_mode": {
    "name": "ipython",
    "version": 3
   },
   "file_extension": ".py",
   "mimetype": "text/x-python",
   "name": "python",
   "nbconvert_exporter": "python",
   "pygments_lexer": "ipython3",
   "version": "3.8.5"
  }
 },
 "nbformat": 4,
 "nbformat_minor": 2
}
